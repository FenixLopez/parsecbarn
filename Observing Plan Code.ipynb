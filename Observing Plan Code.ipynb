{
 "cells": [
  {
   "cell_type": "code",
   "execution_count": 1,
   "id": "32eddebc",
   "metadata": {},
   "outputs": [],
   "source": [
    "from Nickel_exposure_calculator import*\n",
    "import numpy as np"
   ]
  },
  {
   "cell_type": "code",
   "execution_count": 2,
   "id": "c35a0b98",
   "metadata": {},
   "outputs": [],
   "source": [
    "#we need to look up the V magnitude of our stars\n",
    "# from ASAS J112210+2523.4 on the spreadsheet\n",
    "# 11 22 10.250 +25 23 18.492 \n",
    "# https://simbad.cds.unistra.fr/simbad/sim-id?Ident=%4010094301&Name=ASAS+J112210%2B2523.4&submit=display+all+measurements#lab_meas\n",
    "asas_v_mag = 12.24  \n",
    "# from KUV 11337+3946 on the spreadsheet\n",
    "# 11 36 24.39 +39 29 33.9\n",
    "#https://simbad.cds.unistra.fr/simbad/sim-coo?Coord=11+36+24.39+%2B39+29+33.9+&CooFrame=FK5&CooEpoch=2000&CooEqui=2000&CooDefinedFrames=none&Radius=2&Radius.unit=arcmin&submit=submit+query&CoordList=\n",
    "kuv_v_mag = 12.97"
   ]
  },
  {
   "cell_type": "code",
   "execution_count": 10,
   "id": "eb241e36",
   "metadata": {},
   "outputs": [
    {
     "name": "stdout",
     "output_type": "stream",
     "text": [
      "ASAS RA DEC (degrees) =  170.54166666666669 *  25.388333333333332 *\n",
      "KUV RA DEC (degrees) =  174.1 *  39.4925 *\n"
     ]
    }
   ],
   "source": [
    "#converting to ra and da degrees\n",
    "asas_RA_deg = 15*(11 + 22/60 + 10/3600)\n",
    "kuv_RA_deg = 15*(11 + 36/60 + 24/3600)\n",
    "asas_Dec_deg = 25 + 23/60 + 18/3600\n",
    "kuv_DEC_deg = 39 + 29/60 + 33/3600\n",
    "print(\"ASAS RA DEC (degrees) = \", asas_RA_deg, \"* \",asas_Dec_deg, \"*\")\n",
    "print(\"KUV RA DEC (degrees) = \", kuv_RA_deg, \"* \",kuv_DEC_deg, \"*\")"
   ]
  },
  {
   "cell_type": "code",
   "execution_count": 11,
   "id": "00689b6e",
   "metadata": {},
   "outputs": [
    {
     "name": "stdout",
     "output_type": "stream",
     "text": [
      "You should expect a maximum of 42773.21 count/sec per image pixel\n"
     ]
    }
   ],
   "source": [
    "#determining the counts for the asas star\n",
    "#time for exposure\n",
    "asas_exp = 10 #seconds\n",
    "#elevation of the star\n",
    "asas_elevation = 70 #degrees above the horizon at Lick?\n",
    "asas_counts = nexpose(asas_v_mag,asas_exp, asas_elevation)"
   ]
  },
  {
   "cell_type": "code",
   "execution_count": 12,
   "id": "1b8f6ea6",
   "metadata": {},
   "outputs": [
    {
     "name": "stdout",
     "output_type": "stream",
     "text": [
      "You should expect a maximum of 21835.94 count/sec per image pixel\n"
     ]
    }
   ],
   "source": [
    "#determining the counts for the calibration star\n",
    "#time for exposure\n",
    "kuv_exp = 10 #seconds\n",
    "#elevation of the star\n",
    "kuv_elevation = 70 #degrees above the horizon at Lick?\n",
    "kuv_counts = nexpose(kuv_v_mag,kuv_exp, kuv_elevation)"
   ]
  },
  {
   "cell_type": "code",
   "execution_count": null,
   "id": "8c00e3a8",
   "metadata": {},
   "outputs": [],
   "source": []
  }
 ],
 "metadata": {
  "kernelspec": {
   "display_name": "Python 3 (ipykernel)",
   "language": "python",
   "name": "python3"
  },
  "language_info": {
   "codemirror_mode": {
    "name": "ipython",
    "version": 3
   },
   "file_extension": ".py",
   "mimetype": "text/x-python",
   "name": "python",
   "nbconvert_exporter": "python",
   "pygments_lexer": "ipython3",
   "version": "3.10.9"
  }
 },
 "nbformat": 4,
 "nbformat_minor": 5
}
